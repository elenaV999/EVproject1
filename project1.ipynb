{
 "cells": [
  {
   "cell_type": "markdown",
   "metadata": {},
   "source": [
    "---\n",
    "# Star cluster evolution\n",
    "---\n",
    "\n",
    "The number of stars belonging to a cluster decreases during its evolution because their velocities keep changing as a result of close encounters, making it more likely that some stars surpass the escape velocity and are ejected from the cluster.\n",
    "\n",
    "I tested a method to define the evaporation radius for a spherically symmetric star cluster, in order to find how its mass evolves in time. "
   ]
  },
  {
   "cell_type": "markdown",
   "metadata": {},
   "source": [
    "### Initial conditions\n",
    "- the masses of the stars are distributed according to the Salpeter mass function: $\\quad f(m) \\propto m^{-2.3}\\quad$  with range $m \\in [0.1, 150]$ \n",
    "- their initial positions are drawn according to the Plummer model for the density: $\\quad \\rho(r)=\\frac{3 M_{tot}}{4\\pi r_s ^3} \\left(1+\\frac{r^2}{r_s^2}\\right)^{-\\frac{5}{2}}\\quad$ with $r_s = 1$ pc.\n",
    "- The velocities are generated as isotropic and Maxwellian-distributed with dispersion $\\sigma =0.5 km/s$, and are later adjusted to impose virial equilibrium. \n",
    "- For simplicity, the distributions for massed, positions and velocities are assumed to be independent. \n",
    "\n",
    "star cluster parameters        |                         |                       |  \n",
    ":----------------------------|:-----------------------:|:---------------------:|\n",
    "initial number of stars              | N$_{stars}$                       |     $5\\cdot 10^3$                   |\n",
    "total mass                   | M$_{tot}$  \\[ M$_{\\odot}$ \\]    |    $ 1.929 \\cdot 10^3 $             |  \n",
    "average mass for a star      | $\\langle m \\rangle$ \\[ M$_{\\odot}$ \\]    |  $  0.39 $         |\n",
    "total integration time       | t  \\[ Myr\\]             |   $ 20  $                           |"
   ]
  },
  {
   "cell_type": "markdown",
   "metadata": {},
   "source": [
    "### Evaporation \n",
    "\n",
    "I used the evaporation radius as a criterion to establish whether a star is part of the cluster or not. \n",
    "In order to define it properly, I tested three different values (reported in table below), corresponding to the radius enclosing 90%, 95% and 99% of the total mass at initial time. For each one of themm, I plot the evolution in time of the fraction of stars that are still part of the cluster with two different methods (**Fig.1** ):\n",
    "- **method 1:** counting the stars are inside the sphere defined by the evaporation radius and centered in the CoM of the cluster, at each time-step (continuous line) \n",
    "<br>\n",
    "- **method 2:** considering all the stars that crossed out of the sphere defined by the evaporation radius as ejected from the cluster from that moment onward (dashed line)\n",
    "\n",
    "A difference between the two plots means that some of the stars that cross the sphere are not actually lost from the cluster, but they cross back in later. \n",
    "The better choice is therefore R$_{99}$, since the two plots almost coincide. \n",
    "\n",
    "I plot the evolution in time of the total mass of the cluster (**Fig.2**) taking R$_{99}$ as the evaporation radius and using the 1st method to find ejected stars, as it is equivalent to the 2nd method in this case, but faster and simpler to implement. I found that, by the end of the simulation, the cluster has lost 15 % of its mass due to evaporation. \n",
    "\n",
    "For a smaller evaporation radius, the total mass doesn't decrease monotonically in time as it is expected, confirming the fact that such radius is not defined properly. \n",
    "\n",
    "Evaporation radius $\\quad\\quad $   |       Fraction of remaining stars <br><i>Method 1:</i>$\\quad$ <i>Method 2:</i>       |   \n",
    ":----------------------------|:-----------------------:|\n",
    "R$_{90}$ = $3.45$ pc              |  $0.60 \\quad\\quad\\quad\\quad  0.49$                  |     \n",
    "R$_{95}$ = $4.70$ pc              |   $0.71 \\quad\\quad\\quad \\quad  0.65$             |   \n",
    "R$_{99}$ = $10.85$ pc              |   $0.85 \\quad\\quad\\quad\\quad   0.85$             | \n",
    "\n",
    "\n"
   ]
  },
  {
   "cell_type": "markdown",
   "metadata": {},
   "source": [
    "![alt](Nstars.png) | ![alt](Mtot.png)|\n",
    ":-------|:-----   |\n",
    "**Figure 1:** Evolution in time of the fraction of initial stars still belonging <br>to the cluster,with evaporation radius defined as the radius enclosing 90%, 95% and 99% of the total mass of the cluster at initial time. |  **Figure 2:** Evolution in time of the mass of the cluster, with R$_{99}$ as Lagrangian radius.|"
   ]
  },
  {
   "cell_type": "markdown",
   "metadata": {},
   "source": [
    "<img src=\"Mdistribution.png\" style=\"width: 400px;\" align=\"left\"/> \n",
    "\n",
    "\n",
    "|   |\n",
    "|:------|\n",
    "|**Figure 3:** Mass distribution of the stars ejected from the cluster by the end of the simulation, compared with the IMF for all stars|\n",
    "\n",
    "The mass distribution of the stars that were ejected by the end of the simulation is the same as the initial one. This shows how there is no correlation between the ejection of a star and its mass, meaning that the cluster loses stars of random mass during its evolution and its mass function remains the same. \n",
    "\n",
    "There may be an exception for stars with mass > 20 M$_\\odot$, that remain at the center of the cluster for the entire time. This can be due to dynamical friction, but since there are only 2 stars that satisfy this criterion, it may be also due to chance. \n",
    "\n",
    "\n"
   ]
  },
  {
   "cell_type": "markdown",
   "metadata": {},
   "source": [
    "### CODE\n",
    "The simulation is run with the code NBODY6++GPU, which uses a 4th order Hermite scheme to integrate the Nbody problem. The code employs block time-steps and KS regularization.\n",
    "\n",
    "The initial conditions are generated with [initialcond.py](initialcond.py)\n",
    "\n",
    "I used the script [N_stars.py](N_stars.py) to obtain the evolution of the number of stars  (Fig.1) and other information about evaporation. Then I modified it slightly ([Mtot.py](Mtot.py)) to find the same information for the mass (Fig.2) and plot the mass distribution for the final time-step (Fig.3). \n"
   ]
  },
  {
   "cell_type": "code",
   "execution_count": null,
   "metadata": {},
   "outputs": [],
   "source": []
  }
 ],
 "metadata": {
  "kernelspec": {
   "display_name": "Python 3",
   "language": "python",
   "name": "python3"
  },
  "language_info": {
   "codemirror_mode": {
    "name": "ipython",
    "version": 3
   },
   "file_extension": ".py",
   "mimetype": "text/x-python",
   "name": "python",
   "nbconvert_exporter": "python",
   "pygments_lexer": "ipython3",
   "version": "3.8.2"
  }
 },
 "nbformat": 4,
 "nbformat_minor": 4
}
